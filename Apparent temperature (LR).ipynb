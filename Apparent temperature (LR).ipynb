{
 "cells": [
  {
   "cell_type": "code",
   "execution_count": 1,
   "id": "ceef3e95",
   "metadata": {},
   "outputs": [],
   "source": [
    "import numpy as np\n",
    "import pandas as pd"
   ]
  },
  {
   "cell_type": "code",
   "execution_count": 2,
   "id": "65b4a95c",
   "metadata": {},
   "outputs": [
    {
     "name": "stdout",
     "output_type": "stream",
     "text": [
      "<class 'pandas.core.frame.DataFrame'>\n",
      "RangeIndex: 96453 entries, 0 to 96452\n",
      "Data columns (total 11 columns):\n",
      " #   Column                    Non-Null Count  Dtype  \n",
      "---  ------                    --------------  -----  \n",
      " 0   Formatted Date            96453 non-null  object \n",
      " 1   Summary                   96453 non-null  object \n",
      " 2   Precip Type               95936 non-null  object \n",
      " 3   Temperature (C)           96453 non-null  float64\n",
      " 4   Humidity                  96453 non-null  float64\n",
      " 5   Wind Speed (km/h)         96453 non-null  float64\n",
      " 6   Wind Bearing (degrees)    96453 non-null  int64  \n",
      " 7   Visibility (km)           96453 non-null  float64\n",
      " 8   Pressure (millibars)      96453 non-null  float64\n",
      " 9   Daily Summary             96453 non-null  object \n",
      " 10  Apparent Temperature (C)  96453 non-null  float64\n",
      "dtypes: float64(6), int64(1), object(4)\n",
      "memory usage: 8.1+ MB\n"
     ]
    }
   ],
   "source": [
    "data=pd.read_csv(\"weatherHistory.csv\")\n",
    "data=data.drop(columns='Unnamed: 4',axis=1)\n",
    "data.info()"
   ]
  },
  {
   "cell_type": "markdown",
   "id": "28139954",
   "metadata": {},
   "source": [
    "First 5 rows of data"
   ]
  },
  {
   "cell_type": "code",
   "execution_count": 3,
   "id": "d8130484",
   "metadata": {},
   "outputs": [
    {
     "data": {
      "text/html": [
       "<div>\n",
       "<style scoped>\n",
       "    .dataframe tbody tr th:only-of-type {\n",
       "        vertical-align: middle;\n",
       "    }\n",
       "\n",
       "    .dataframe tbody tr th {\n",
       "        vertical-align: top;\n",
       "    }\n",
       "\n",
       "    .dataframe thead th {\n",
       "        text-align: right;\n",
       "    }\n",
       "</style>\n",
       "<table border=\"1\" class=\"dataframe\">\n",
       "  <thead>\n",
       "    <tr style=\"text-align: right;\">\n",
       "      <th></th>\n",
       "      <th>Formatted Date</th>\n",
       "      <th>Summary</th>\n",
       "      <th>Precip Type</th>\n",
       "      <th>Temperature (C)</th>\n",
       "      <th>Humidity</th>\n",
       "      <th>Wind Speed (km/h)</th>\n",
       "      <th>Wind Bearing (degrees)</th>\n",
       "      <th>Visibility (km)</th>\n",
       "      <th>Pressure (millibars)</th>\n",
       "      <th>Daily Summary</th>\n",
       "      <th>Apparent Temperature (C)</th>\n",
       "    </tr>\n",
       "  </thead>\n",
       "  <tbody>\n",
       "    <tr>\n",
       "      <th>0</th>\n",
       "      <td>2006-04-01 00:00:00.000 +0200</td>\n",
       "      <td>Partly Cloudy</td>\n",
       "      <td>rain</td>\n",
       "      <td>9.472222</td>\n",
       "      <td>0.89</td>\n",
       "      <td>14.1197</td>\n",
       "      <td>251</td>\n",
       "      <td>15.8263</td>\n",
       "      <td>1015.13</td>\n",
       "      <td>Partly cloudy throughout the day.</td>\n",
       "      <td>7.388889</td>\n",
       "    </tr>\n",
       "    <tr>\n",
       "      <th>1</th>\n",
       "      <td>2006-04-01 01:00:00.000 +0200</td>\n",
       "      <td>Partly Cloudy</td>\n",
       "      <td>rain</td>\n",
       "      <td>9.355556</td>\n",
       "      <td>0.86</td>\n",
       "      <td>14.2646</td>\n",
       "      <td>259</td>\n",
       "      <td>15.8263</td>\n",
       "      <td>1015.63</td>\n",
       "      <td>Partly cloudy throughout the day.</td>\n",
       "      <td>7.227778</td>\n",
       "    </tr>\n",
       "    <tr>\n",
       "      <th>2</th>\n",
       "      <td>2006-04-01 02:00:00.000 +0200</td>\n",
       "      <td>Mostly Cloudy</td>\n",
       "      <td>rain</td>\n",
       "      <td>9.377778</td>\n",
       "      <td>0.89</td>\n",
       "      <td>3.9284</td>\n",
       "      <td>204</td>\n",
       "      <td>14.9569</td>\n",
       "      <td>1015.94</td>\n",
       "      <td>Partly cloudy throughout the day.</td>\n",
       "      <td>9.377778</td>\n",
       "    </tr>\n",
       "    <tr>\n",
       "      <th>3</th>\n",
       "      <td>2006-04-01 03:00:00.000 +0200</td>\n",
       "      <td>Partly Cloudy</td>\n",
       "      <td>rain</td>\n",
       "      <td>8.288889</td>\n",
       "      <td>0.83</td>\n",
       "      <td>14.1036</td>\n",
       "      <td>269</td>\n",
       "      <td>15.8263</td>\n",
       "      <td>1016.41</td>\n",
       "      <td>Partly cloudy throughout the day.</td>\n",
       "      <td>5.944444</td>\n",
       "    </tr>\n",
       "    <tr>\n",
       "      <th>4</th>\n",
       "      <td>2006-04-01 04:00:00.000 +0200</td>\n",
       "      <td>Mostly Cloudy</td>\n",
       "      <td>rain</td>\n",
       "      <td>8.755556</td>\n",
       "      <td>0.83</td>\n",
       "      <td>11.0446</td>\n",
       "      <td>259</td>\n",
       "      <td>15.8263</td>\n",
       "      <td>1016.51</td>\n",
       "      <td>Partly cloudy throughout the day.</td>\n",
       "      <td>6.977778</td>\n",
       "    </tr>\n",
       "  </tbody>\n",
       "</table>\n",
       "</div>"
      ],
      "text/plain": [
       "                  Formatted Date        Summary Precip Type  Temperature (C)  \\\n",
       "0  2006-04-01 00:00:00.000 +0200  Partly Cloudy        rain         9.472222   \n",
       "1  2006-04-01 01:00:00.000 +0200  Partly Cloudy        rain         9.355556   \n",
       "2  2006-04-01 02:00:00.000 +0200  Mostly Cloudy        rain         9.377778   \n",
       "3  2006-04-01 03:00:00.000 +0200  Partly Cloudy        rain         8.288889   \n",
       "4  2006-04-01 04:00:00.000 +0200  Mostly Cloudy        rain         8.755556   \n",
       "\n",
       "   Humidity  Wind Speed (km/h)  Wind Bearing (degrees)  Visibility (km)  \\\n",
       "0      0.89            14.1197                     251          15.8263   \n",
       "1      0.86            14.2646                     259          15.8263   \n",
       "2      0.89             3.9284                     204          14.9569   \n",
       "3      0.83            14.1036                     269          15.8263   \n",
       "4      0.83            11.0446                     259          15.8263   \n",
       "\n",
       "   Pressure (millibars)                      Daily Summary  \\\n",
       "0               1015.13  Partly cloudy throughout the day.   \n",
       "1               1015.63  Partly cloudy throughout the day.   \n",
       "2               1015.94  Partly cloudy throughout the day.   \n",
       "3               1016.41  Partly cloudy throughout the day.   \n",
       "4               1016.51  Partly cloudy throughout the day.   \n",
       "\n",
       "   Apparent Temperature (C)  \n",
       "0                  7.388889  \n",
       "1                  7.227778  \n",
       "2                  9.377778  \n",
       "3                  5.944444  \n",
       "4                  6.977778  "
      ]
     },
     "execution_count": 3,
     "metadata": {},
     "output_type": "execute_result"
    }
   ],
   "source": [
    "data.head()"
   ]
  },
  {
   "cell_type": "markdown",
   "id": "bb3cab6b",
   "metadata": {},
   "source": [
    "."
   ]
  },
  {
   "cell_type": "markdown",
   "id": "e5a6f9b2",
   "metadata": {},
   "source": [
    "Data Cleaning and feature engineering"
   ]
  },
  {
   "cell_type": "markdown",
   "id": "2678042e",
   "metadata": {},
   "source": [
    "."
   ]
  },
  {
   "cell_type": "code",
   "execution_count": 4,
   "id": "4b2c908e",
   "metadata": {},
   "outputs": [],
   "source": [
    "avg=data['Pressure (millibars)'].mean()*96453/(96453-1288)"
   ]
  },
  {
   "cell_type": "code",
   "execution_count": 5,
   "id": "fa7fc5f3",
   "metadata": {},
   "outputs": [
    {
     "name": "stderr",
     "output_type": "stream",
     "text": [
      "<ipython-input-5-c10a34fd18a7>:3: SettingWithCopyWarning: \n",
      "A value is trying to be set on a copy of a slice from a DataFrame\n",
      "\n",
      "See the caveats in the documentation: https://pandas.pydata.org/pandas-docs/stable/user_guide/indexing.html#returning-a-view-versus-a-copy\n",
      "  data['Pressure (millibars)'][i]=avg\n"
     ]
    }
   ],
   "source": [
    "for i in range(len(data['Pressure (millibars)'])):\n",
    "    if(data['Pressure (millibars)'][i]==0):\n",
    "        data['Pressure (millibars)'][i]=avg"
   ]
  },
  {
   "cell_type": "code",
   "execution_count": 6,
   "id": "94e17958",
   "metadata": {},
   "outputs": [
    {
     "data": {
      "text/plain": [
       "<AxesSubplot:>"
      ]
     },
     "execution_count": 6,
     "metadata": {},
     "output_type": "execute_result"
    },
    {
     "data": {
      "image/png": "[encoded data removed]",
      "text/plain": [
       "<Figure size 432x288 with 1 Axes>"
      ]
     },
     "metadata": {
      "needs_background": "light"
     },
     "output_type": "display_data"
    }
   ],
   "source": [
    "data['Pressure (millibars)'].hist()"
   ]
  },
  {
   "cell_type": "code",
   "execution_count": 7,
   "id": "4e5c10dd",
   "metadata": {},
   "outputs": [],
   "source": [
    "data['Precip Type'].fillna('no rain',inplace =True)"
   ]
  },
  {
   "cell_type": "code",
   "execution_count": 8,
   "id": "5129ea14",
   "metadata": {},
   "outputs": [],
   "source": [
    "data=data.drop(columns=['Formatted Date','Daily Summary'])"
   ]
  },
  {
   "cell_type": "code",
   "execution_count": 9,
   "id": "ea0a01d2",
   "metadata": {},
   "outputs": [],
   "source": [
    "data_enc = pd.get_dummies(data, columns=['Summary','Precip Type'], drop_first=True)"
   ]
  },
  {
   "cell_type": "code",
   "execution_count": 10,
   "id": "4e059650",
   "metadata": {},
   "outputs": [
    {
     "name": "stdout",
     "output_type": "stream",
     "text": [
      "<class 'pandas.core.frame.DataFrame'>\n",
      "RangeIndex: 96453 entries, 0 to 96452\n",
      "Data columns (total 35 columns):\n",
      " #   Column                                       Non-Null Count  Dtype  \n",
      "---  ------                                       --------------  -----  \n",
      " 0   Temperature (C)                              96453 non-null  float64\n",
      " 1   Humidity                                     96453 non-null  float64\n",
      " 2   Wind Speed (km/h)                            96453 non-null  float64\n",
      " 3   Wind Bearing (degrees)                       96453 non-null  int64  \n",
      " 4   Visibility (km)                              96453 non-null  float64\n",
      " 5   Pressure (millibars)                         96453 non-null  float64\n",
      " 6   Apparent Temperature (C)                     96453 non-null  float64\n",
      " 7   Summary_Breezy and Dry                       96453 non-null  uint8  \n",
      " 8   Summary_Breezy and Foggy                     96453 non-null  uint8  \n",
      " 9   Summary_Breezy and Mostly Cloudy             96453 non-null  uint8  \n",
      " 10  Summary_Breezy and Overcast                  96453 non-null  uint8  \n",
      " 11  Summary_Breezy and Partly Cloudy             96453 non-null  uint8  \n",
      " 12  Summary_Clear                                96453 non-null  uint8  \n",
      " 13  Summary_Dangerously Windy and Partly Cloudy  96453 non-null  uint8  \n",
      " 14  Summary_Drizzle                              96453 non-null  uint8  \n",
      " 15  Summary_Dry                                  96453 non-null  uint8  \n",
      " 16  Summary_Dry and Mostly Cloudy                96453 non-null  uint8  \n",
      " 17  Summary_Dry and Partly Cloudy                96453 non-null  uint8  \n",
      " 18  Summary_Foggy                                96453 non-null  uint8  \n",
      " 19  Summary_Humid and Mostly Cloudy              96453 non-null  uint8  \n",
      " 20  Summary_Humid and Overcast                   96453 non-null  uint8  \n",
      " 21  Summary_Humid and Partly Cloudy              96453 non-null  uint8  \n",
      " 22  Summary_Light Rain                           96453 non-null  uint8  \n",
      " 23  Summary_Mostly Cloudy                        96453 non-null  uint8  \n",
      " 24  Summary_Overcast                             96453 non-null  uint8  \n",
      " 25  Summary_Partly Cloudy                        96453 non-null  uint8  \n",
      " 26  Summary_Rain                                 96453 non-null  uint8  \n",
      " 27  Summary_Windy                                96453 non-null  uint8  \n",
      " 28  Summary_Windy and Dry                        96453 non-null  uint8  \n",
      " 29  Summary_Windy and Foggy                      96453 non-null  uint8  \n",
      " 30  Summary_Windy and Mostly Cloudy              96453 non-null  uint8  \n",
      " 31  Summary_Windy and Overcast                   96453 non-null  uint8  \n",
      " 32  Summary_Windy and Partly Cloudy              96453 non-null  uint8  \n",
      " 33  Precip Type_rain                             96453 non-null  uint8  \n",
      " 34  Precip Type_snow                             96453 non-null  uint8  \n",
      "dtypes: float64(6), int64(1), uint8(28)\n",
      "memory usage: 7.7 MB\n"
     ]
    }
   ],
   "source": [
    "data_enc.info()"
   ]
  },
  {
   "cell_type": "code",
   "execution_count": 11,
   "id": "ad04f2e2",
   "metadata": {},
   "outputs": [],
   "source": [
    "from sklearn.linear_model import LinearRegression\n",
    "from sklearn.metrics import r2_score\n",
    "from sklearn.model_selection import train_test_split\n",
    "from sklearn.preprocessing import StandardScaler"
   ]
  },
  {
   "cell_type": "code",
   "execution_count": 12,
   "id": "a4d51f84",
   "metadata": {},
   "outputs": [],
   "source": [
    "lr=LinearRegression()\n",
    "ss=StandardScaler()"
   ]
  },
  {
   "cell_type": "markdown",
   "id": "af4e003a",
   "metadata": {},
   "source": [
    "Applying simple LR"
   ]
  },
  {
   "cell_type": "code",
   "execution_count": 13,
   "id": "7bee6129",
   "metadata": {},
   "outputs": [],
   "source": [
    "Y = data_enc['Apparent Temperature (C)']\n",
    "X = data_enc.drop(columns='Apparent Temperature (C)')"
   ]
  },
  {
   "cell_type": "code",
   "execution_count": 14,
   "id": "320685fd",
   "metadata": {},
   "outputs": [
    {
     "name": "stdout",
     "output_type": "stream",
     "text": [
      "1.0\n"
     ]
    }
   ],
   "source": [
    "X_train,X_test,Y_train,Y_test = train_test_split(X,Y,test_size=0.3,random_state=72018)\n",
    "x_tr=ss.fit_transform(X_train)\n",
    "lr.fit(x_tr,Y_train)\n",
    "x_te=ss.transform(X_test)\n",
    "y_pred=lr.predict(x_te)\n",
    "y=list(Y_train)\n",
    "yp=list(y_pred)\n",
    "y1=list()\n",
    "m=sum(y)/(len(y))\n",
    "for i in range(len(y)):\n",
    "    if((y[i]-yp[i])*(y[i]-yp[i])>50):\n",
    "        break\n",
    "    y1.append((y[i]-yp[i])*(y[i]-yp[i]))\n",
    "    y[i]=(y[i]-m)*(y[i]-m)\n",
    "s=sum(y1)\n",
    "s2=sum(y)\n",
    "print(1-s/s2)"
   ]
  },
  {
   "cell_type": "code",
   "execution_count": null,
   "id": "f4c2323a",
   "metadata": {},
   "outputs": [],
   "source": []
  },
  {
   "cell_type": "code",
   "execution_count": null,
   "id": "d0c16b91",
   "metadata": {},
   "outputs": [],
   "source": []
  },
  {
   "cell_type": "code",
   "execution_count": null,
   "id": "4f5f25bd",
   "metadata": {},
   "outputs": [],
   "source": []
  },
  {
   "cell_type": "code",
   "execution_count": 15,
   "id": "f0647733",
   "metadata": {},
   "outputs": [],
   "source": [
    "from sklearn.preprocessing import PolynomialFeatures\n",
    "from sklearn.model_selection import KFold, cross_val_predict\n",
    "from sklearn.linear_model import Lasso, Ridge\n",
    "from sklearn.pipeline import Pipeline"
   ]
  },
  {
   "cell_type": "code",
   "execution_count": 16,
   "id": "0867b4ca",
   "metadata": {},
   "outputs": [
    {
     "data": {
      "text/plain": [
       "-5451030195030.817"
      ]
     },
     "execution_count": 16,
     "metadata": {},
     "output_type": "execute_result"
    }
   ],
   "source": [
    "pf = PolynomialFeatures(degree=2)\n",
    "lr=LinearRegression()\n",
    "ss=StandardScaler()\n",
    "kf = KFold(shuffle=True, random_state=72018, n_splits=3)\n",
    "estimator = Pipeline([\n",
    "        (\"scaler\", ss),\n",
    "        (\"polynomial_features\", pf),\n",
    "        (\"regression\", lr)])\n",
    "predictions = cross_val_predict(estimator, X, Y, cv = kf)\n",
    "r2_score(Y, predictions)"
   ]
  },
  {
   "cell_type": "raw",
   "id": "aefd6f4f",
   "metadata": {},
   "source": []
  },
  {
   "cell_type": "code",
   "execution_count": null,
   "id": "ac81a5e5",
   "metadata": {},
   "outputs": [],
   "source": []
  },
  {
   "cell_type": "markdown",
   "id": "b4bc79de",
   "metadata": {},
   "source": [
    "LR with plolynomial features"
   ]
  },
  {
   "cell_type": "code",
   "execution_count": 17,
   "id": "64876a1f",
   "metadata": {},
   "outputs": [
    {
     "name": "stdout",
     "output_type": "stream",
     "text": [
      "0.9902460143846097\n"
     ]
    }
   ],
   "source": [
    "y=list(Y_test)\n",
    "yp=list(y_pred)\n",
    "y1=list()\n",
    "m=sum(y)/(len(y))\n",
    "for i in range(len(y)):\n",
    "    if((y[i]-yp[i])*(y[i]-yp[i])>50):\n",
    "        break\n",
    "    y1.append((y[i]-yp[i])*(y[i]-yp[i]))\n",
    "    y[i]=(y[i]-m)*(y[i]-m)\n",
    "s=sum(y1)\n",
    "s2=sum(y)\n",
    "print(1-s/s2)"
   ]
  },
  {
   "cell_type": "code",
   "execution_count": null,
   "id": "47ebd551",
   "metadata": {},
   "outputs": [],
   "source": []
  },
  {
   "cell_type": "markdown",
   "id": "cdc88f92",
   "metadata": {},
   "source": [
    "LR with Lasso Regression"
   ]
  },
  {
   "cell_type": "code",
   "execution_count": 19,
   "id": "733c524f",
   "metadata": {},
   "outputs": [
    {
     "name": "stdout",
     "output_type": "stream",
     "text": [
      "0.9968264548414013\n"
     ]
    }
   ],
   "source": [
    "pf = PolynomialFeatures(degree=2)\n",
    "ss=StandardScaler()\n",
    "las = Lasso(alpha=0.01, max_iter=100000)\n",
    "estimator = Pipeline([\n",
    "        (\"scaler\", ss),\n",
    "        (\"polynomial_features\", pf),\n",
    "        (\"lasso_regression\", las)])\n",
    "predictions = cross_val_predict(estimator, X, Y, cv = kf)\n",
    "score = r2_score(Y, predictions)\n",
    "print(score)"
   ]
  },
  {
   "cell_type": "code",
   "execution_count": null,
   "id": "706917b1",
   "metadata": {},
   "outputs": [],
   "source": []
  }
 ],
 "metadata": {
  "kernelspec": {
   "display_name": "Python 3",
   "language": "python",
   "name": "python3"
  },
  "language_info": {
   "codemirror_mode": {
    "name": "ipython",
    "version": 3
   },
   "file_extension": ".py",
   "mimetype": "text/x-python",
   "name": "python",
   "nbconvert_exporter": "python",
   "pygments_lexer": "ipython3",
   "version": "3.8.8"
  }
 },
 "nbformat": 4,
 "nbformat_minor": 5
}
